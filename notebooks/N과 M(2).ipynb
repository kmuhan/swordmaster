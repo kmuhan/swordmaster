{
 "cells": [
  {
   "cell_type": "code",
   "execution_count": null,
   "metadata": {},
   "outputs": [],
   "source": [
    "N, M = map(int, input().split())\n",
    "\n",
    "li = []\n",
    "\n",
    "def dfs(start):\n",
    "    if len(li) == M:\n",
    "    #    print(*li)\n",
    "        return\n",
    "    for i in range(start, N+1):\n",
    "        # if i not in li: 이 조건은 오름차순 출력으로 dfs(i+1)을 해주기 때문에 이 문제 한정으로 필요가 없어보인다.\n",
    "        print(i)\n",
    "        li.append(i)\n",
    "        dfs(i)\n",
    "        li.pop()\n",
    "\n",
    "dfs(1)"
   ]
  },
  {
   "attachments": {},
   "cell_type": "markdown",
   "metadata": {},
   "source": [
    "dfs(1)로 메서드를 시작하고, dfs(1)의 for문이 모두 끝나서, 모두 pop 되어 리스트가 비어지면,i = 2 일때 dfs(2)가 시작된다.\n",
    "\n",
    "for문에 의해서 바로 출력되는 것이 아니라, for문에서 dfs(i)를 먼저 거치고 length가 m과 같아졌을 때 출력을 하는 것이기 때문에 헷갈리지 말것.\n",
    "\n",
    "이것은 오름차순의 조합을 구하는 백트래킹 방법이고, 수학적인 공식처럼 외우면 될 것이다.\n",
    "\n",
    "dfs에서 리스트에 남은 숫자가 pop에 의해서 탈락하는 과정이 가장 이해가 안됐는데, 쉽게 생각하면 쉽다."
   ]
  }
 ],
 "metadata": {
  "kernelspec": {
   "display_name": "Python 3",
   "language": "python",
   "name": "python3"
  },
  "language_info": {
   "codemirror_mode": {
    "name": "ipython",
    "version": 3
   },
   "file_extension": ".py",
   "mimetype": "text/x-python",
   "name": "python",
   "nbconvert_exporter": "python",
   "pygments_lexer": "ipython3",
   "version": "3.10.4"
  },
  "orig_nbformat": 4
 },
 "nbformat": 4,
 "nbformat_minor": 2
}
