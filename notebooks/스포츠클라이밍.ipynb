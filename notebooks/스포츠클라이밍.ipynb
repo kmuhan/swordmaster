{
 "cells": [
  {
   "cell_type": "code",
   "execution_count": 8,
   "metadata": {},
   "outputs": [
    {
     "name": "stdout",
     "output_type": "stream",
     "text": [
      "2 0 5\n",
      "0 3 4\n",
      "1 2 3\n"
     ]
    }
   ],
   "source": [
    "t = int(input())\n",
    "\n",
    "vx, vy = [1, 0, -1, 0], [0, 1, 0, -1]\n",
    "\n",
    "from collections import deque\n",
    "\n",
    "for i in range(t):\n",
    "    n = int(input())\n",
    "\n",
    "    graph = []\n",
    "    for i in range(n):\n",
    "        graph.append(input().split())\n",
    "\n",
    "    visited = [[0]*n for _ in range(n)]\n",
    "\n",
    "    q = deque()\n",
    "    def bfs():\n",
    "        while q:\n",
    "            x, y = q.popleft()\n",
    "            # 1번 조건\n",
    "            for i in range(4):\n",
    "                nx, ny = x+vx[i] , y+vy[i]\n",
    "                if (0 <= nx < n) and (0 <= ny < n):\n",
    "                    if graph[ny][nx] == 'H' and visited[ny][nx] == 0:\n",
    "                        visited[ny][nx] = visited[y][x] + 1\n",
    "                        q.append([nx, ny])\n",
    "\n",
    "            #3번 조건\n",
    "            nx3, ny3_1, ny3_2 = x, y-1 ,y-2\n",
    "            if (0 <= nx3 < n) and (0 <= ny3_2 < n):\n",
    "                if graph[ny3_2][nx3] == 'H' and graph[ny3_1][nx3] == '.' and visited[ny3_2][nx3] == 0:\n",
    "                    visited[ny3_2][nx3] = visited[y][x] + 1\n",
    "                    q.append([nx3, ny3_2])\n",
    "\n",
    "    visited[n-1][0] = 1\n",
    "    q.append([0, n-1])\n",
    "    bfs()\n",
    "\n",
    "    for i in range(n):\n",
    "        for j in range(n):\n",
    "            if graph[j][i] == 'H' and visited[j][i] == 0:\n",
    "                visited[j][i] = -1\n",
    "    for li in visited:\n",
    "        print(\" \".join(map(str, li)))"
   ]
  },
  {
   "cell_type": "code",
   "execution_count": 25,
   "metadata": {},
   "outputs": [
    {
     "name": "stdout",
     "output_type": "stream",
     "text": [
      "['H', 'H', 'H', 'H']\n",
      "['H', 'H', 'H', 'H']\n",
      "['H', 'H', 'H', 'H']\n",
      "['H', 'H', 'H', 'H']\n",
      "[0, 0, 0, 0]\n",
      "[0, 0, 0, 0]\n",
      "[0, 0, 0, 0]\n",
      "[1, 0, 0, 0]\n"
     ]
    }
   ],
   "source": [
    "for i in graph:\n",
    "    print(i)\n",
    "for i in visited:\n",
    "    print(i)"
   ]
  },
  {
   "cell_type": "code",
   "execution_count": 4,
   "metadata": {},
   "outputs": [
    {
     "ename": "IndexError",
     "evalue": "list index out of range",
     "output_type": "error",
     "traceback": [
      "\u001b[0;31m---------------------------------------------------------------------------\u001b[0m",
      "\u001b[0;31mIndexError\u001b[0m                                Traceback (most recent call last)",
      "Cell \u001b[0;32mIn[4], line 1\u001b[0m\n\u001b[0;32m----> 1\u001b[0m visited[\u001b[39m3\u001b[39;49m][\u001b[39m0\u001b[39m]\n",
      "\u001b[0;31mIndexError\u001b[0m: list index out of range"
     ]
    }
   ],
   "source": [
    "visited[3][0]"
   ]
  }
 ],
 "metadata": {
  "kernelspec": {
   "display_name": "Python 3",
   "language": "python",
   "name": "python3"
  },
  "language_info": {
   "codemirror_mode": {
    "name": "ipython",
    "version": 3
   },
   "file_extension": ".py",
   "mimetype": "text/x-python",
   "name": "python",
   "nbconvert_exporter": "python",
   "pygments_lexer": "ipython3",
   "version": "3.10.4"
  },
  "orig_nbformat": 4
 },
 "nbformat": 4,
 "nbformat_minor": 2
}
