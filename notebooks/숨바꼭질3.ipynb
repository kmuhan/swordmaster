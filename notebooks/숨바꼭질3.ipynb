{
 "cells": [
  {
   "cell_type": "code",
   "execution_count": 25,
   "metadata": {},
   "outputs": [
    {
     "name": "stdout",
     "output_type": "stream",
     "text": [
      "2\n"
     ]
    }
   ],
   "source": [
    "N, K = map(int, input().split())\n",
    "\n",
    "from collections import deque\n",
    "q = deque()\n",
    "distance = [0]*(100001)\n",
    "\n",
    "q.append(N)\n",
    "distance[N] = 1\n",
    "\n",
    "def bfs():\n",
    "    while q:\n",
    "        X = q.popleft()\n",
    "        if X == K:\n",
    "            print(distance[X] - 1)\n",
    "            break\n",
    "        for i in (X-1, X+1, X*2):\n",
    "            if 0 <= i <= 100000 and distance[i] == 0:\n",
    "                if i == X*2:\n",
    "                    distance[i] = distance[X]\n",
    "                    q.appendleft(i)\n",
    "                else:\n",
    "                    distance[i] = distance[X] + 1\n",
    "                    q.append(i)\n",
    "\n",
    "bfs()"
   ]
  },
  {
   "cell_type": "code",
   "execution_count": null,
   "metadata": {},
   "outputs": [],
   "source": []
  }
 ],
 "metadata": {
  "kernelspec": {
   "display_name": "Python 3",
   "language": "python",
   "name": "python3"
  },
  "language_info": {
   "codemirror_mode": {
    "name": "ipython",
    "version": 3
   },
   "file_extension": ".py",
   "mimetype": "text/x-python",
   "name": "python",
   "nbconvert_exporter": "python",
   "pygments_lexer": "ipython3",
   "version": "3.9.6"
  },
  "orig_nbformat": 4
 },
 "nbformat": 4,
 "nbformat_minor": 2
}
