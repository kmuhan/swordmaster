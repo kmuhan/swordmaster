{
 "cells": [
  {
   "cell_type": "code",
   "execution_count": 7,
   "metadata": {},
   "outputs": [
    {
     "name": "stdout",
     "output_type": "stream",
     "text": [
      "1 2 3 4\n"
     ]
    }
   ],
   "source": [
    "N, M = map(int, input().split())\n",
    "\n",
    "li = []\n",
    "\n",
    "def dfs(start):\n",
    "    if len(li) == M:\n",
    "        print(*li)\n",
    "        return\n",
    "    for i in range(start, N+1):\n",
    "        # if i not in li: 이 조건은 오름차순 출력으로 dfs(i+1)을 해주기 때문에 이 문제 한정으로 필요가 없어보인다.\n",
    "        li.append(i)\n",
    "        dfs(i)\n",
    "        li.pop()\n",
    "\n",
    "dfs(1)"
   ]
  }
 ],
 "metadata": {
  "kernelspec": {
   "display_name": "Python 3",
   "language": "python",
   "name": "python3"
  },
  "language_info": {
   "codemirror_mode": {
    "name": "ipython",
    "version": 3
   },
   "file_extension": ".py",
   "mimetype": "text/x-python",
   "name": "python",
   "nbconvert_exporter": "python",
   "pygments_lexer": "ipython3",
   "version": "3.10.4"
  },
  "orig_nbformat": 4
 },
 "nbformat": 4,
 "nbformat_minor": 2
}
