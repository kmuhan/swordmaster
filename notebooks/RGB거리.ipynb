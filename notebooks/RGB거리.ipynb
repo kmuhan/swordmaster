{
 "cells": [
  {
   "cell_type": "code",
   "execution_count": null,
   "metadata": {},
   "outputs": [],
   "source": [
    "N = int(input())\n",
    "\n",
    "costs = []\n",
    "for i in range(N):\n",
    "    r, g, b = map(int, input().split())\n",
    "    costs.append([r, g, b])\n",
    "\n",
    "for i in range(1, N):\n",
    "    costs[i][0] = min(costs[i-1][1], costs[i-1][2]) + costs[i][0]\n",
    "    costs[i][1] = min(costs[i-1][2], costs[i-1][0]) + costs[i][1]\n",
    "    costs[i][2] = min(costs[i-1][0], costs[i-1][1]) + costs[i][2]\n",
    "    \n",
    "print(min(costs[N-1][0], costs[N-1][1], costs[N-1][2]))"
   ]
  },
  {
   "attachments": {},
   "cell_type": "markdown",
   "metadata": {},
   "source": [
    "dp 문제였지만 그리 간단하게 생각할 수 있는 문제는 아니었던것 같다.\n",
    "\n",
    "이런 누적합 dp 문제가 몇문제정도 있었던 것 같은데, 그때 풀이랑은 또 다르게 현재 i번째에다가 이전의 i-1번째의 최소 값을 더해나가는 방식이다.\n",
    "\n",
    "내가 처음 생각해서 매몰되었던 방식은, 현재 i 값에 i+1, i+2의 min값을 더한 값들의 min 값을 찾으려고 했었는데, 그렇게 되면 너무 많은 경우의 수가 생기고, 매번 선택마다 정말로 최종의 min값이 보장이 되지 않는다.\n",
    "\n",
    "이런 식의 누적합 문제는 i-1의 계산, 그러니까 i 번째 반복 할 때, 그 이전의 값들에서 dp의 조건을 걸어주는 것으로 하자."
   ]
  }
 ],
 "metadata": {
  "kernelspec": {
   "display_name": "Python 3",
   "language": "python",
   "name": "python3"
  },
  "language_info": {
   "codemirror_mode": {
    "name": "ipython",
    "version": 3
   },
   "file_extension": ".py",
   "mimetype": "text/x-python",
   "name": "python",
   "nbconvert_exporter": "python",
   "pygments_lexer": "ipython3",
   "version": "3.10.4"
  },
  "orig_nbformat": 4
 },
 "nbformat": 4,
 "nbformat_minor": 2
}
