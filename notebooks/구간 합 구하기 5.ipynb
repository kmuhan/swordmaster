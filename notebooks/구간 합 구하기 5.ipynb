{
 "cells": [
  {
   "cell_type": "code",
   "execution_count": 18,
   "metadata": {},
   "outputs": [
    {
     "name": "stdout",
     "output_type": "stream",
     "text": [
      "12\n"
     ]
    }
   ],
   "source": [
    "N, M = map(int, input().split())\n",
    "table = []\n",
    "ax = []\n",
    "for i in range(N):\n",
    "    table.append(list(map(int, input().split())))\n",
    "sum_table = [[0]*(N+1) for _ in range(N+1)]\n",
    "for i in range(M):\n",
    "    x1, y1, x2, y2 = map(int, input().split())\n",
    "    ax.append([x1, y1, x2, y2])\n",
    "\n",
    "for i in range(1, N+1):\n",
    "    for j in range(1, N+1):\n",
    "        sum_table[i][j] = sum_table[i-1][j] + sum_table[i][j-1] - sum_table[i-1][j-1] + table[i-1][j-1]\n",
    "\n",
    "for i in ax:\n",
    "    x1, y1, x2, y2 = i\n",
    "    s = sum_table[x2][y2] - sum_table[x2][y1-1] - sum_table[x1-1][y2] + sum_table[x1-1][y1-1]\n",
    "    print(s)"
   ]
  },
  {
   "cell_type": "code",
   "execution_count": 20,
   "metadata": {},
   "outputs": [
    {
     "name": "stdout",
     "output_type": "stream",
     "text": [
      "1 1 3 2\n",
      "[0, 0, 0, 0, 0]\n",
      "[0, 1, 3, 6, 10]\n",
      "[0, 2, 6, 12, 20]\n",
      "[0, 3, 9, 18, 30]\n",
      "[0, 4, 12, 24, 40]\n",
      "[1, 2, 3, 4]\n",
      "[1, 2, 3, 4]\n",
      "[1, 2, 3, 4]\n",
      "[1, 2, 3, 4]\n"
     ]
    }
   ],
   "source": [
    "print(x1, y1, x2, y2)\n",
    "for i in sum_table:\n",
    "    print(i)\n",
    "for i in table:\n",
    "    print(i)"
   ]
  }
 ],
 "metadata": {
  "kernelspec": {
   "display_name": "Python 3",
   "language": "python",
   "name": "python3"
  },
  "language_info": {
   "codemirror_mode": {
    "name": "ipython",
    "version": 3
   },
   "file_extension": ".py",
   "mimetype": "text/x-python",
   "name": "python",
   "nbconvert_exporter": "python",
   "pygments_lexer": "ipython3",
   "version": "3.10.4"
  },
  "orig_nbformat": 4
 },
 "nbformat": 4,
 "nbformat_minor": 2
}
