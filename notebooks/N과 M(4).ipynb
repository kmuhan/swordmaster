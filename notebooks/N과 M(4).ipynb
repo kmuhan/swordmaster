{
 "cells": [
  {
   "cell_type": "code",
   "execution_count": 35,
   "metadata": {},
   "outputs": [
    {
     "name": "stdout",
     "output_type": "stream",
     "text": [
      "1 1\n",
      "1 7\n",
      "1 9\n",
      "7 7\n",
      "7 9\n",
      "9 9\n"
     ]
    }
   ],
   "source": [
    "N, M = map(int, input().split())\n",
    "li = map(int, input().split())\n",
    "li = sorted(li)\n",
    "s = []\n",
    "lin = []\n",
    "\n",
    "def dfs(depth, start):\n",
    "    if depth == M:\n",
    "        print(*s)\n",
    "        return\n",
    "    re = 0\n",
    "    for i in range(start, N):\n",
    "        if li[i] != re:\n",
    "            s.append(li[i])\n",
    "            re = li[i]\n",
    "            dfs(depth+1, i)\n",
    "            s.pop()\n",
    "\n",
    "dfs(0, 0)"
   ]
  },
  {
   "cell_type": "code",
   "execution_count": 31,
   "metadata": {},
   "outputs": [
    {
     "data": {
      "text/plain": [
       "[False, True, False, False, False]"
      ]
     },
     "execution_count": 31,
     "metadata": {},
     "output_type": "execute_result"
    }
   ],
   "source": [
    "visited"
   ]
  }
 ],
 "metadata": {
  "kernelspec": {
   "display_name": "Python 3",
   "language": "python",
   "name": "python3"
  },
  "language_info": {
   "codemirror_mode": {
    "name": "ipython",
    "version": 3
   },
   "file_extension": ".py",
   "mimetype": "text/x-python",
   "name": "python",
   "nbconvert_exporter": "python",
   "pygments_lexer": "ipython3",
   "version": "3.10.4"
  },
  "orig_nbformat": 4
 },
 "nbformat": 4,
 "nbformat_minor": 2
}
