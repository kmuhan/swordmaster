{
 "cells": [
  {
   "cell_type": "code",
   "execution_count": 49,
   "metadata": {},
   "outputs": [
    {
     "name": "stdout",
     "output_type": "stream",
     "text": [
      "[2,1]\n"
     ]
    }
   ],
   "source": [
    "from collections import deque\n",
    "\n",
    "q = deque()\n",
    "\n",
    "T = int(input())\n",
    "\n",
    "for i in range(T):\n",
    "    q.clear()\n",
    "    p = list(input())\n",
    "    n = int(input())\n",
    "    li = input()[1:-1].split(\",\")\n",
    "    for i in li:\n",
    "        q.append(i)\n",
    "    if n == 0:\n",
    "        q = deque()\n",
    "    current = 1\n",
    "    for o in p:\n",
    "        if o == 'R':\n",
    "            current *= -1\n",
    "        else:\n",
    "            if not q:\n",
    "                print(\"error\")\n",
    "                current = 0\n",
    "                break\n",
    "            if current == -1:\n",
    "                q.pop()\n",
    "            elif current == 1:\n",
    "                q.popleft()\n",
    "    if current == 1:\n",
    "        print(\"[\"+\",\".join(q)+\"]\")\n",
    "    elif current == -1:\n",
    "        print(\"[\"+\",\".join(reversed(q))+\"]\")"
   ]
  },
  {
   "cell_type": "code",
   "execution_count": null,
   "metadata": {},
   "outputs": [],
   "source": [
    "len([])"
   ]
  }
 ],
 "metadata": {
  "kernelspec": {
   "display_name": "Python 3",
   "language": "python",
   "name": "python3"
  },
  "language_info": {
   "codemirror_mode": {
    "name": "ipython",
    "version": 3
   },
   "file_extension": ".py",
   "mimetype": "text/x-python",
   "name": "python",
   "nbconvert_exporter": "python",
   "pygments_lexer": "ipython3",
   "version": "3.10.4"
  },
  "orig_nbformat": 4
 },
 "nbformat": 4,
 "nbformat_minor": 2
}
