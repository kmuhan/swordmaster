{
 "cells": [
  {
   "cell_type": "code",
   "execution_count": 17,
   "metadata": {},
   "outputs": [
    {
     "name": "stdout",
     "output_type": "stream",
     "text": [
      "2\n"
     ]
    }
   ],
   "source": [
    "T = int(input())\n",
    "\n",
    "Vx, Vy = [1, 0, -1, 0], [0, 1, 0, -1]\n",
    "\n",
    "for i in range(T):\n",
    "    M, N, K = map(int, input().split())\n",
    "\n",
    "    graph = [[0]*M for _ in range(N)]\n",
    "    count = 0\n",
    "    for i in range(K):\n",
    "        x, y = map(int, input().split())\n",
    "        graph[y][x] = 1\n",
    "    \n",
    "    def dfs(x, y):\n",
    "        for i in range(4):\n",
    "            nx, ny = x + Vx[i], y + Vy[i]\n",
    "            if (0 <= nx < M) and (0 <= ny < N):\n",
    "                if graph[ny][nx] == 1:\n",
    "                    graph[ny][nx] = -1\n",
    "                    dfs(nx, ny)\n",
    "    \n",
    "    for i in range(N):\n",
    "        for j in range(M):\n",
    "            if graph[i][j] == 1:\n",
    "                dfs(j, i)\n",
    "                count += 1\n",
    "    \n",
    "    print(count)"
   ]
  },
  {
   "attachments": {},
   "cell_type": "markdown",
   "metadata": {},
   "source": [
    "## dfs\n",
    "는 왜 매번 까먹을까\n",
    "\n",
    "graph랑 visited 만들고,(만약 visited가 필요 없으면 안만들어도 됨)\n",
    "\n",
    "bfs는 queue로, dfs는 재귀로 둘다 반복문 안에 넣어서 돌리는것!!!!!!!!!!!!!!!"
   ]
  }
 ],
 "metadata": {
  "kernelspec": {
   "display_name": "Python 3",
   "language": "python",
   "name": "python3"
  },
  "language_info": {
   "codemirror_mode": {
    "name": "ipython",
    "version": 3
   },
   "file_extension": ".py",
   "mimetype": "text/x-python",
   "name": "python",
   "nbconvert_exporter": "python",
   "pygments_lexer": "ipython3",
   "version": "3.10.4"
  },
  "orig_nbformat": 4
 },
 "nbformat": 4,
 "nbformat_minor": 2
}
