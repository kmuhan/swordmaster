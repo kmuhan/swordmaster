{
 "cells": [
  {
   "cell_type": "code",
   "execution_count": 5,
   "metadata": {},
   "outputs": [
    {
     "name": "stdout",
     "output_type": "stream",
     "text": [
      "9\n"
     ]
    }
   ],
   "source": [
    "N = int(input())\n",
    "memo = [[0]*10 for _ in range(N)]\n",
    "for i in range(1, 10):\n",
    "    memo[0][i] = 1\n",
    "\n",
    "big = 1000000000\n",
    "\n",
    "def dp(N):\n",
    "    for row in range(1, N):\n",
    "        for c in range(10):\n",
    "            if (10 > c+1):\n",
    "                memo[row][c] = memo[row][c] + memo[row-1][c+1]\n",
    "            if (0 <= c-1):\n",
    "                memo[row][c] = memo[row][c] + memo[row-1][c-1]\n",
    "\n",
    "dp(N)\n",
    "\n",
    "print(sum(memo[N-1]) % big)"
   ]
  },
  {
   "attachments": {},
   "cell_type": "markdown",
   "metadata": {},
   "source": [
    "dp의 가장 중요한 요소 두개를 까먹어서 조금 시간이 걸렸던 문제 였던 것 같다.\n",
    "\n",
    "가장 중요한건, top-down, bottom-up 방식의 문제 해결 접근\n",
    "\n",
    "그리고 memo. 별도의 list등의 저장 공간을 만들어서 해결해야 한다는 생각으로 접근한다."
   ]
  }
 ],
 "metadata": {
  "kernelspec": {
   "display_name": "Python 3",
   "language": "python",
   "name": "python3"
  },
  "language_info": {
   "codemirror_mode": {
    "name": "ipython",
    "version": 3
   },
   "file_extension": ".py",
   "mimetype": "text/x-python",
   "name": "python",
   "nbconvert_exporter": "python",
   "pygments_lexer": "ipython3",
   "version": "3.9.6"
  },
  "orig_nbformat": 4
 },
 "nbformat": 4,
 "nbformat_minor": 2
}
