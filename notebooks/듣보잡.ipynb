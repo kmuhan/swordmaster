{
 "cells": [
  {
   "attachments": {},
   "cell_type": "markdown",
   "metadata": {},
   "source": [
    "### 듣보잡\n",
    "\n",
    "시간 제한\t메모리 제한\t제출\t정답\t맞힌 사람\t정답 비율\n",
    "\n",
    "2 초\t256 MB\t77432\t32593\t25098\t40.382%\n",
    "\n",
    "문제\n",
    "\n",
    "김진영이 듣도 못한 사람의 명단과, 보도 못한 사람의 명단이 주어질 때, 듣도 보도 못한 사람의 명단을 구하는 프로그램을 작성하시오.\n",
    "\n",
    "입력\n",
    "\n",
    "첫째 줄에 듣도 못한 사람의 수 N, 보도 못한 사람의 수 M이 주어진다. 이어서 둘째 줄부터 N개의 줄에 걸쳐 듣도 못한 사람의 이름과, N+2째 줄부터 보도 못한 사람의 이름이 순서대로 주어진다. 이름은 띄어쓰기 없이 알파벳 소문자로만 이루어지며, 그 길이는 20 이하이다. N, M은 500,000 이하의 자연수이다.\n",
    "\n",
    "듣도 못한 사람의 명단에는 중복되는 이름이 없으며, 보도 못한 사람의 명단도 마찬가지이다.\n",
    "\n",
    "출력\n",
    "\n",
    "듣보잡의 수와 그 명단을 사전순으로 출력한다."
   ]
  },
  {
   "cell_type": "code",
   "execution_count": null,
   "metadata": {},
   "outputs": [],
   "source": [
    "N, M = map(int, input().split())\n",
    "Nli = []\n",
    "Mli = []\n",
    "for i in range(N):\n",
    "    n = input()\n",
    "    Nli.append(n)\n",
    "for i in range(M):\n",
    "    n = input()\n",
    "    Mli.append(n)\n",
    "Nli = set(Nli)\n",
    "Mli = set(Mli)\n",
    "li = Nli & Mli\n",
    "\n",
    "print(len(Nli & Mli))\n",
    "for i in sorted(li):\n",
    "    print(i)"
   ]
  },
  {
   "attachments": {},
   "cell_type": "markdown",
   "metadata": {},
   "source": [
    "python의 자료형을 잘 안다면 풀기 쉬운 문제였다.\n",
    "\n",
    "위의 문제는 두 list의 교집합을 구해서 정렬하는 문제였다.\n",
    "\n",
    "python에는 set이라는 자료형이 있고, set은 집합에 관한 것을 처리하기 위하여 만들어졌다.\n",
    "\n",
    "* set은 기본적으로 모든 중복을 무시하고 제거한다.\n",
    "* a = set(), b = set()\n",
    "* 두 set의 교집합은 intersection = a & b\n",
    "* 두 set의 합집합은 union = a | b\n",
    "* 두 set의 차집합은 difference = a - b (b - a도 동일)\n",
    "* 두 set이 같은지 확인하는 법은 a == b (true, false)\n",
    "* 요소 추가 - set.add(n)\n",
    "* 요소 여러개 추가 - set.update([11, 12, 13]), set.update({11, 12, 13})\n",
    "* 특정 요소 제거 - set.remove(11)\n",
    "* 요소 pop - set.pop()"
   ]
  }
 ],
 "metadata": {
  "kernelspec": {
   "display_name": "Python 3",
   "language": "python",
   "name": "python3"
  },
  "language_info": {
   "codemirror_mode": {
    "name": "ipython",
    "version": 3
   },
   "file_extension": ".py",
   "mimetype": "text/x-python",
   "name": "python",
   "nbconvert_exporter": "python",
   "pygments_lexer": "ipython3",
   "version": "3.10.4"
  },
  "orig_nbformat": 4
 },
 "nbformat": 4,
 "nbformat_minor": 2
}
