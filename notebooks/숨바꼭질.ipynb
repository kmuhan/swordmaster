{
 "cells": [
  {
   "cell_type": "code",
   "execution_count": 18,
   "metadata": {},
   "outputs": [
    {
     "name": "stdout",
     "output_type": "stream",
     "text": [
      "5\n"
     ]
    }
   ],
   "source": [
    "N, K = map(int, input().split())\n",
    "sec = 0\n",
    "if N == K:\n",
    "    print(sec)\n",
    "else:\n",
    "    if N == 0:\n",
    "        N += 1\n",
    "        sec += 1\n",
    "    while True:\n",
    "        if N == K:\n",
    "            break\n",
    "        if abs(K-N) <= abs(K-(2*N)):\n",
    "            sec += abs(K-N)\n",
    "            N = K\n",
    "        else:\n",
    "            if abs(K-((N-1)*2)) < abs(K-(N*2)):\n",
    "                N = (N-1)*2\n",
    "                sec += 2\n",
    "            else:\n",
    "                N = N*2\n",
    "                sec += 1\n",
    "    print(sec)"
   ]
  },
  {
   "cell_type": "code",
   "execution_count": 22,
   "metadata": {},
   "outputs": [
    {
     "name": "stdout",
     "output_type": "stream",
     "text": [
      "3\n"
     ]
    }
   ],
   "source": [
    "from collections import deque\n",
    "\n",
    "N, K = map(int, input().split())\n",
    "dist = [0]*((10**5) + 1)\n",
    "\n",
    "def bfs():\n",
    "    q = deque()\n",
    "    q.append(N)\n",
    "    while q:\n",
    "        x = q.popleft()\n",
    "        if x == K:\n",
    "            print(dist[x])\n",
    "            break\n",
    "        else:\n",
    "            for i in (x-1, x+1, x*2):\n",
    "                if 0 <= i <= (10**5) and dist[i] == 0:\n",
    "                    dist[i] = dist[x] + 1\n",
    "                    q.append(i)\n",
    "\n",
    "bfs()\n"
   ]
  },
  {
   "attachments": {},
   "cell_type": "markdown",
   "metadata": {},
   "source": [
    "아 ㅈ같다\n",
    "\n",
    "dfs로 풀 수 없는 이유?\n",
    "\n",
    "bfs로만 풀어야 하는 이유?\n",
    "\n",
    "뭘까\n",
    "\n",
    "아직 이 문제를 정확히 이해 못함"
   ]
  }
 ],
 "metadata": {
  "kernelspec": {
   "display_name": "Python 3",
   "language": "python",
   "name": "python3"
  },
  "language_info": {
   "codemirror_mode": {
    "name": "ipython",
    "version": 3
   },
   "file_extension": ".py",
   "mimetype": "text/x-python",
   "name": "python",
   "nbconvert_exporter": "python",
   "pygments_lexer": "ipython3",
   "version": "3.10.4"
  },
  "orig_nbformat": 4
 },
 "nbformat": 4,
 "nbformat_minor": 2
}
