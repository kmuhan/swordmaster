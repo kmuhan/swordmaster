{
 "cells": [
  {
   "cell_type": "code",
   "execution_count": 34,
   "metadata": {},
   "outputs": [
    {
     "ename": "KeyboardInterrupt",
     "evalue": "",
     "output_type": "error",
     "traceback": [
      "\u001b[0;31m---------------------------------------------------------------------------\u001b[0m",
      "\u001b[0;31mKeyboardInterrupt\u001b[0m                         Traceback (most recent call last)",
      "Cell \u001b[0;32mIn[34], line 1\u001b[0m\n\u001b[0;32m----> 1\u001b[0m N \u001b[39m=\u001b[39m \u001b[39mint\u001b[39m(\u001b[39minput\u001b[39;49m())\n\u001b[1;32m      2\u001b[0m graph \u001b[39m=\u001b[39m []\n\u001b[1;32m      3\u001b[0m visited_1 \u001b[39m=\u001b[39m [[\u001b[39m0\u001b[39m \u001b[39mfor\u001b[39;00m _ \u001b[39min\u001b[39;00m \u001b[39mrange\u001b[39m(N)] \u001b[39mfor\u001b[39;00m _ \u001b[39min\u001b[39;00m \u001b[39mrange\u001b[39m(N)]\n",
      "\u001b[0;31mKeyboardInterrupt\u001b[0m: "
     ]
    }
   ],
   "source": [
    "N = int(input())\n",
    "graph = []\n",
    "visited_1 = [[0 for _ in range(N)] for _ in range(N)]\n",
    "\n",
    "for i in range(N):\n",
    "    graph.append(input())\n",
    "\n",
    "vx, vy = [1, 0, -1, 0], [0, 1, 0, -1]\n",
    "\n",
    "def dfs_1(x, y):\n",
    "    visited_1[y][x] = 1\n",
    "\n",
    "    for i in range(4):\n",
    "        nx, ny = x+vx[i], y+vy[i]\n",
    "        if (0 <= nx < N) and (0 <= ny < N):\n",
    "            if visited_1[ny][nx] == 0:\n",
    "                if graph[ny][nx] == graph[y][x]:\n",
    "                    dfs_1(nx, ny)          \n",
    "\n",
    "count_1 = 0\n",
    "count_2 = 0\n",
    "\n",
    "for i in range(N):\n",
    "    for j in range(N):\n",
    "        if not visited_1[i][j]:\n",
    "            dfs_1(j, i)\n",
    "            count_1 += 1\n",
    "\n",
    "for i in range(N):\n",
    "    for j in range(N):\n",
    "        visited_1[i][j] = 0\n",
    "        if graph[i][j] == 'G':\n",
    "            graph[i][j] = 'R'\n",
    "\n",
    "for i in range(N):\n",
    "    for j in range(N):\n",
    "        if not visited_1[i][j]:\n",
    "            dfs_1(j, i)\n",
    "            count_2 += 1\n",
    "\n",
    "print(count_1, count_2)\n"
   ]
  },
  {
   "cell_type": "code",
   "execution_count": 29,
   "metadata": {},
   "outputs": [
    {
     "name": "stdout",
     "output_type": "stream",
     "text": [
      "4 3\n"
     ]
    }
   ],
   "source": [
    "print(count_1, count_2)"
   ]
  },
  {
   "cell_type": "code",
   "execution_count": 27,
   "metadata": {},
   "outputs": [
    {
     "data": {
      "text/plain": [
       "3"
      ]
     },
     "execution_count": 27,
     "metadata": {},
     "output_type": "execute_result"
    }
   ],
   "source": [
    "count_2"
   ]
  }
 ],
 "metadata": {
  "kernelspec": {
   "display_name": "Python 3",
   "language": "python",
   "name": "python3"
  },
  "language_info": {
   "codemirror_mode": {
    "name": "ipython",
    "version": 3
   },
   "file_extension": ".py",
   "mimetype": "text/x-python",
   "name": "python",
   "nbconvert_exporter": "python",
   "pygments_lexer": "ipython3",
   "version": "3.9.6"
  },
  "orig_nbformat": 4
 },
 "nbformat": 4,
 "nbformat_minor": 2
}
