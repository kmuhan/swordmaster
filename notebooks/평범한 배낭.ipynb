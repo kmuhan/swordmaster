{
 "cells": [
  {
   "cell_type": "code",
   "execution_count": 3,
   "metadata": {},
   "outputs": [
    {
     "name": "stdout",
     "output_type": "stream",
     "text": [
      "14\n"
     ]
    }
   ],
   "source": [
    "N, K = map(int, input().split())\n",
    "prods = []\n",
    "values = [[0]*(K+1) for _ in range(N+1)]\n",
    "for i in range(N):\n",
    "    W, V = map(int, input().split())\n",
    "    prods.append([W, V])\n",
    "prods = sorted(prods)\n",
    "\n",
    "\n",
    "def dp():\n",
    "    for n in range(1, N+1):\n",
    "        for k in range(K+1):\n",
    "            w, v = prods[n-1]\n",
    "            if w > k:\n",
    "                values[n][k] = values[n-1][k]\n",
    "            else:\n",
    "                values[n][k] = max(values[n-1][k], values[n-1][k-w] + v)\n",
    "    print(values[N][K])\n",
    "\n",
    "dp()\n"
   ]
  }
 ],
 "metadata": {
  "kernelspec": {
   "display_name": "Python 3",
   "language": "python",
   "name": "python3"
  },
  "language_info": {
   "codemirror_mode": {
    "name": "ipython",
    "version": 3
   },
   "file_extension": ".py",
   "mimetype": "text/x-python",
   "name": "python",
   "nbconvert_exporter": "python",
   "pygments_lexer": "ipython3",
   "version": "3.10.4"
  },
  "orig_nbformat": 4
 },
 "nbformat": 4,
 "nbformat_minor": 2
}
