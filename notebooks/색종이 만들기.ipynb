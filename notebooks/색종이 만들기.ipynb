{
 "cells": [
  {
   "attachments": {},
   "cell_type": "markdown",
   "metadata": {},
   "source": [
    "색종이 만들기 성공\n",
    "\n",
    "시간 제한\t메모리 제한\t제출\t정답\t맞힌 사람\t정답 비율\n",
    "\n",
    "1 초\t128 MB\t34454\t23714\t18489\t69.058%\n",
    "\n",
    "문제\n",
    "\n",
    "아래 <그림 1>과 같이 여러개의 정사각형칸들로 이루어진 정사각형 모양의 종이가 주어져 있고, 각 정사각형들은 하얀색으로 칠해져 있거나 파란색으로 칠해져 있다. 주어진 종이를 일정한 규칙에 따라 잘라서 다양한 크기를 가진 정사각형 모양의 하얀색 또는 파란색 색종이를 만들려고 한다.\n",
    "\n",
    "\n",
    "\n",
    "전체 종이의 크기가 N×N(N=2k, k는 1 이상 7 이하의 자연수) 이라면 종이를 자르는 규칙은 다음과 같다.\n",
    "\n",
    "전체 종이가 모두 같은 색으로 칠해져 있지 않으면 가로와 세로로 중간 부분을 잘라서 <그림 2>의 I, II, III, IV와 같이 똑같은 크기의 네 개의 N/2 × N/2색종이로 나눈다. 나누어진 종이 I, II, III, IV 각각에 대해서도 앞에서와 마찬가지로 모두 같은 색으로 칠해져 있지 않으면 같은 방법으로 똑같은 크기의 네 개의 색종이로 나눈다. 이와 같은 과정을 잘라진 종이가 모두 하얀색 또는 모두 파란색으로 칠해져 있거나, 하나의 정사각형 칸이 되어 더 이상 자를 수 없을 때까지 반복한다.\n",
    "\n",
    "위와 같은 규칙에 따라 잘랐을 때 <그림 3>은 <그림 1>의 종이를 처음 나눈 후의 상태를, <그림 4>는 두 번째 나눈 후의 상태를, <그림 5>는 최종적으로 만들어진 다양한 크기의 9장의 하얀색 색종이와 7장의 파란색 색종이를 보여주고 있다.\n",
    "\n",
    "\n",
    "\n",
    "입력으로 주어진 종이의 한 변의 길이 N과 각 정사각형칸의 색(하얀색 또는 파란색)이 주어질 때 잘라진 하얀색 색종이와 파란색 색종이의 개수를 구하는 프로그램을 작성하시오.\n",
    "\n",
    "입력\n",
    "\n",
    "첫째 줄에는 전체 종이의 한 변의 길이 N이 주어져 있다. N은 2, 4, 8, 16, 32, 64, 128 중 하나이다. 색종이의 각 가로줄의 정사각형칸들의 색이 윗줄부터 차례로 둘째 줄부터 마지막 줄까지 주어진다. 하얀색으로 칠해진 칸은 0, 파란색으로 칠해진 칸은 1로 주어지며, 각 숫자 사이에는 빈칸이 하나씩 있다.\n",
    "\n",
    "출력\n",
    "\n",
    "첫째 줄에는 잘라진 햐얀색 색종이의 개수를 출력하고, 둘째 줄에는 파란색 색종이의 개수를 출력한다."
   ]
  },
  {
   "cell_type": "code",
   "execution_count": null,
   "metadata": {},
   "outputs": [],
   "source": [
    "N = int(input())\n",
    "rec = []\n",
    "\n",
    "white = 0\n",
    "blue = 0\n",
    "\n",
    "for i in range(N):\n",
    "    row = map(int, input().split())\n",
    "    rec.append(list(row))\n",
    "\n",
    "\n",
    "def dp(n, startX, startY, endX, endY):\n",
    "\n",
    "    if n < 1:\n",
    "        return\n",
    "    count = 0\n",
    "    for i in range(startY, endY):\n",
    "        for j in range(startX, endX):\n",
    "            count += rec[i][j]\n",
    "\n",
    "    if count == 0:\n",
    "        global white\n",
    "        white += 1\n",
    "        return\n",
    "    elif count == n*n:\n",
    "        global blue \n",
    "        blue += 1\n",
    "        return\n",
    "    else:\n",
    "        # 1사분면\n",
    "        dp(n//2, startX, startY, startX + (n//2), startY + (n//2))\n",
    "        # 2사분면\n",
    "        dp(n//2, startX + (n//2), startY, startX + n, startY + (n//2))\n",
    "        # 3사분면\n",
    "        dp(n//2, startX, startY + (n//2), startX + (n//2), startY + n)\n",
    "        # 4사분면\n",
    "        dp(n//2, startX + (n//2), startY + (n//2), startX + n, startY + n)\n",
    "\n",
    "\n",
    "dp(N, 0, 0, N, N)\n",
    "\n",
    "print(white)\n",
    "print(blue)\n"
   ]
  },
  {
   "attachments": {},
   "cell_type": "markdown",
   "metadata": {},
   "source": [
    "분할 정복과 재귀를 이용한 문제였다..\n",
    "\n",
    "어디선가 이런 사분면 분할정복 문제는 사분면을 쪼개면서 start와 end를 정해주고 푸는 풀이를 본 적 이 있었던것 같아서 그대로 적용 해보았다.\n",
    "\n",
    "분할 정복은 연산의 단위를 점점 줄여나가는 방식인데, 단위를 줄인다는 것은 범위를 줄인다는 것이고 이는 곧 정사각형의 면의 길이를 줄여나간다는 의미이다.\n",
    "\n",
    "* 자꾸 float integer 에러가 떴는데, 나눌 때 /로 나누었는지, //로 나누었는지 이걸 실수 했었다.\n",
    "* global 변수를 메서드 안에서 사용하려면 메서드 안에다가 gloabl foo, foo += 1 이런식으로 사용해야 전역 변수에 접근 할 수 있다는 것도 까먹었다."
   ]
  }
 ],
 "metadata": {
  "kernelspec": {
   "display_name": "Python 3",
   "language": "python",
   "name": "python3"
  },
  "language_info": {
   "codemirror_mode": {
    "name": "ipython",
    "version": 3
   },
   "file_extension": ".py",
   "mimetype": "text/x-python",
   "name": "python",
   "nbconvert_exporter": "python",
   "pygments_lexer": "ipython3",
   "version": "3.10.4"
  },
  "orig_nbformat": 4
 },
 "nbformat": 4,
 "nbformat_minor": 2
}
