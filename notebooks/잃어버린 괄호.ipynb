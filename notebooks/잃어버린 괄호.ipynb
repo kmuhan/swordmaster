{
 "cells": [
  {
   "cell_type": "code",
   "execution_count": 20,
   "metadata": {},
   "outputs": [
    {
     "name": "stdout",
     "output_type": "stream",
     "text": [
      "-170\n"
     ]
    }
   ],
   "source": [
    "exp = input()\n",
    "exp = exp.split(\"-\")\n",
    "\n",
    "exp0 = exp[0].split(\"+\")\n",
    "count = 0\n",
    "for i in exp0:\n",
    "    count += int(i)\n",
    "\n",
    "for m in range(1, len(exp)):\n",
    "    s = 0\n",
    "    li = exp[m].split(\"+\")\n",
    "    for i in li:\n",
    "        s += int(i)\n",
    "    count -= s\n",
    "    \n",
    "print(count)"
   ]
  },
  {
   "attachments": {},
   "cell_type": "markdown",
   "metadata": {},
   "source": [
    "생각보다 쉬운 문제였는데\n",
    "\n",
    "split 메서드는 괄호 안에 들어간 문자열을 제거하고 남은 요소들로 list를 반환 한다는 것을 기억하면 될듯."
   ]
  }
 ],
 "metadata": {
  "kernelspec": {
   "display_name": "Python 3",
   "language": "python",
   "name": "python3"
  },
  "language_info": {
   "codemirror_mode": {
    "name": "ipython",
    "version": 3
   },
   "file_extension": ".py",
   "mimetype": "text/x-python",
   "name": "python",
   "nbconvert_exporter": "python",
   "pygments_lexer": "ipython3",
   "version": "3.10.4"
  },
  "orig_nbformat": 4
 },
 "nbformat": 4,
 "nbformat_minor": 2
}
