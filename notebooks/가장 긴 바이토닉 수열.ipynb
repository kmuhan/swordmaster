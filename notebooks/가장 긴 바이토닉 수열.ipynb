{
 "cells": [
  {
   "cell_type": "code",
   "execution_count": 36,
   "metadata": {},
   "outputs": [
    {
     "name": "stdout",
     "output_type": "stream",
     "text": [
      "8\n"
     ]
    }
   ],
   "source": [
    "N = int(input())\n",
    "A = list(map(int, input().split()))\n",
    "values_1 = [1]*N\n",
    "values_2 = [1]*N\n",
    "def dp():\n",
    "    for i in range(1, N):\n",
    "        for j in range(i):\n",
    "            if A[i] > A[j]:\n",
    "                values_1[i] = max(values_1[i], values_1[j]+1)\n",
    "    for i in range(N-1, -1, -1):\n",
    "        for j in range(N-1, i-1, -1):\n",
    "            if A[i] > A[j]:\n",
    "                values_2[i] = max(values_2[i], values_2[j]+1)\n",
    "dp()\n",
    "print(max([(values_2[i] + values_1[i]) for i in range(N)]) - 1)"
   ]
  },
  {
   "cell_type": "code",
   "execution_count": 37,
   "metadata": {},
   "outputs": [
    {
     "data": {
      "text/plain": [
       "[2, 7, 4, 2, 7, 6, 7, 8, 4, 2]"
      ]
     },
     "execution_count": 37,
     "metadata": {},
     "output_type": "execute_result"
    }
   ],
   "source": [
    "[(values_2[i] + values_1[i]) for i in range(N)]"
   ]
  },
  {
   "cell_type": "code",
   "execution_count": 21,
   "metadata": {},
   "outputs": [
    {
     "data": {
      "text/plain": [
       "[1, 2, 2, 1, 2, 2, 2, 2, 2, 1]"
      ]
     },
     "execution_count": 21,
     "metadata": {},
     "output_type": "execute_result"
    }
   ],
   "source": [
    "values_2"
   ]
  }
 ],
 "metadata": {
  "kernelspec": {
   "display_name": "Python 3",
   "language": "python",
   "name": "python3"
  },
  "language_info": {
   "codemirror_mode": {
    "name": "ipython",
    "version": 3
   },
   "file_extension": ".py",
   "mimetype": "text/x-python",
   "name": "python",
   "nbconvert_exporter": "python",
   "pygments_lexer": "ipython3",
   "version": "3.10.4"
  },
  "orig_nbformat": 4
 },
 "nbformat": 4,
 "nbformat_minor": 2
}
