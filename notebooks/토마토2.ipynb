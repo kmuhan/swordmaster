{
 "cells": [
  {
   "cell_type": "code",
   "execution_count": 20,
   "metadata": {},
   "outputs": [],
   "source": [
    "M, N, H = map(int, input().split())\n",
    "graph = [[[] for _ in range(N)] for _ in range(H)]\n",
    "for h in range(H):\n",
    "    for n in range(N):\n",
    "        graph[h][n] = list(map(int, input().split()))\n",
    "\n",
    "vx, vy, vz = [1, -1, 0, 0, 0, 0], [0, 0, 1, -1, 0, 0], [0, 0, 0, 0, 1, -1]\n",
    "\n",
    "from collections import deque\n",
    "def bfs():\n",
    "    while q:\n",
    "        x, y, z = q.popleft()\n",
    "        for i in range(6):\n",
    "            nx, ny, nz = x+vx[i] , y+vy[i], z+vz[i]\n",
    "            if 0 <= nx < M and 0 <= ny < N and 0 <= nz < H:\n",
    "                if graph[nz][ny][nx] == 0:\n",
    "                    graph[nz][ny][nx] = graph[z][y][x] + 1\n",
    "                    q.append([nx, ny, nz])\n",
    "\n",
    "q = deque()\n",
    "for h in range(H):\n",
    "    for n in range(N):\n",
    "        for m in range(M):\n",
    "            if graph[h][n][m] == 1:\n",
    "                q.append([m, n, h])\n",
    "\n",
    "bfs()\n",
    "\n",
    "for h in graph:\n",
    "    for n in h:\n",
    "        if 0 in n:\n",
    "            print(-1)\n",
    "            exit(0)\n",
    "\n",
    "graph2 = []\n",
    "for h in graph:\n",
    "    for n in h:\n",
    "        for m in n:\n",
    "            graph2.append(m)\n",
    "max = max(graph2)\n",
    "if max == 1:\n",
    "    print(0)\n",
    "else:\n",
    "    print(max-1)"
   ]
  },
  {
   "cell_type": "code",
   "execution_count": 27,
   "metadata": {},
   "outputs": [
    {
     "data": {
      "text/plain": [
       "[[[5, 4, 3, 4, 5], [4, 3, 2, 3, 4], [5, 4, 3, 4, 5]],\n",
       " [[4, 3, 2, 3, 4], [3, 2, 1, 2, 3], [4, 3, 2, 3, 4]]]"
      ]
     },
     "execution_count": 27,
     "metadata": {},
     "output_type": "execute_result"
    }
   ],
   "source": [
    "graph"
   ]
  }
 ],
 "metadata": {
  "kernelspec": {
   "display_name": "Python 3",
   "language": "python",
   "name": "python3"
  },
  "language_info": {
   "codemirror_mode": {
    "name": "ipython",
    "version": 3
   },
   "file_extension": ".py",
   "mimetype": "text/x-python",
   "name": "python",
   "nbconvert_exporter": "python",
   "pygments_lexer": "ipython3",
   "version": "3.10.4"
  },
  "orig_nbformat": 4
 },
 "nbformat": 4,
 "nbformat_minor": 2
}
