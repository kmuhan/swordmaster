{
 "cells": [
  {
   "cell_type": "code",
   "execution_count": null,
   "metadata": {},
   "outputs": [],
   "source": [
    "t = int(input())\n",
    "\n",
    "for i in range(t):\n",
    "    n, m = map(int, input().split())\n",
    "    count = 0\n",
    "\n",
    "    def dfs(li):\n",
    "        for e in li:\n",
    "            #1번 조건\n",
    "            if e > m:\n",
    "                return\n",
    "            #2번 조건\n",
    "            if e // 2 == 0:\n",
    "                li.remove()\n",
    "    \n",
    "    print(count)\n",
    "\n"
   ]
  }
 ],
 "metadata": {
  "language_info": {
   "name": "python"
  },
  "orig_nbformat": 4
 },
 "nbformat": 4,
 "nbformat_minor": 2
}
