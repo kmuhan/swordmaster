{
 "cells": [
  {
   "cell_type": "code",
   "execution_count": 12,
   "metadata": {},
   "outputs": [
    {
     "name": "stdout",
     "output_type": "stream",
     "text": [
      "1\n"
     ]
    }
   ],
   "source": [
    "N, M = map(int, input().split())\n",
    "graph = [[0]*(N+1) for _ in range(N+1)]\n",
    "visited = [0]*(N+1)\n",
    "\n",
    "for i in range(M):\n",
    "    u, v = map(int, input().split())\n",
    "    graph[u][v] = 1\n",
    "    graph[v][u] = 1\n",
    "\n",
    "def dfs(v):\n",
    "    for i in range(1, N+1):\n",
    "        if graph[v][i] == 1 and not visited[i]:\n",
    "            visited[i] = 1\n",
    "            dfs(i)\n",
    "    \n",
    "count = 0\n",
    "for i in range(1, N+1):\n",
    "    if not visited[i]:\n",
    "        visited[i] = 1\n",
    "        dfs(i)\n",
    "        count += 1\n",
    "print(count)"
   ]
  },
  {
   "attachments": {},
   "cell_type": "markdown",
   "metadata": {},
   "source": [
    "간단한 bfs 문제였다.. bfs를 까먹었을 것 같았는데 생각보다 기억이 잘났다\n",
    "\n",
    "사실 bfs dfs는 그 함수 포맷만 외우면 될 것 같다..\n",
    "\n",
    "dfs는\n",
    "\n",
    "한 방점에서 연결된 노드들을 for문으로 탐색하고 \n",
    "\n",
    "visited list를 만들고 방문했는지 체크한다음에 안했으면 다시 dfs재귀 돌리기..\n",
    "\n",
    "bfs는 데크나 큐를 만들고\n",
    "\n",
    "한 방점에서 연결된 노드들을 전부 다 집어넣고 하나씩 뽑으면서 다시 그 뽑는 노드에 연결 된 노드들을 큐에 넣고\n",
    "\n",
    "이걸 큐가 빌때까지 반복하기...\n",
    "\n",
    "이렇게 말하니까 쉬운데 어렵다!"
   ]
  },
  {
   "cell_type": "code",
   "execution_count": null,
   "metadata": {},
   "outputs": [],
   "source": [
    "N, M = map(int, input().split())\n",
    "graph = [[0]*(N+1) for _ in range(N+1)]\n",
    "visited = [0]*(N+1)\n",
    "\n",
    "for i in range(M):\n",
    "    u, v = map(int, input().split())\n",
    "    graph[u][v] = 1\n",
    "    graph[v][u] = 1\n",
    "\n",
    "###### 기존꺼\n",
    "def dfs(v):\n",
    "    for i in range(1, N+1):\n",
    "        if graph[v][i] == 1 and not visited[i]:\n",
    "            visited[i] = 1\n",
    "            dfs(i)\n",
    "    \n",
    "count = 0\n",
    "for i in range(1, N+1):\n",
    "    if not visited[i]:\n",
    "        visited[i] = 1\n",
    "        dfs(i)\n",
    "        count += 1\n",
    "print(count)\n",
    "###### 기존꺼\n",
    "\n",
    "###### 바꾼거\n",
    "def dfs(v):\n",
    "    visited[i] = 1\n",
    "    for i in range(1, N+1):\n",
    "        if graph[v][i] == 1 and not visited[i]:\n",
    "            dfs(i)\n",
    "    \n",
    "count = 0\n",
    "for i in range(1, N+1):\n",
    "    if not visited[i]:\n",
    "        dfs(i)\n",
    "        count += 1\n",
    "print(count)\n",
    "###### 바꾼거"
   ]
  }
 ],
 "metadata": {
  "kernelspec": {
   "display_name": "Python 3",
   "language": "python",
   "name": "python3"
  },
  "language_info": {
   "codemirror_mode": {
    "name": "ipython",
    "version": 3
   },
   "file_extension": ".py",
   "mimetype": "text/x-python",
   "name": "python",
   "nbconvert_exporter": "python",
   "pygments_lexer": "ipython3",
   "version": "3.10.4"
  },
  "orig_nbformat": 4
 },
 "nbformat": 4,
 "nbformat_minor": 2
}
