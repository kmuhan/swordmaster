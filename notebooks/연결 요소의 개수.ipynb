{
 "cells": [
  {
   "cell_type": "code",
   "execution_count": 12,
   "metadata": {},
   "outputs": [
    {
     "name": "stdout",
     "output_type": "stream",
     "text": [
      "1\n"
     ]
    }
   ],
   "source": [
    "N, M = map(int, input().split())\n",
    "graph = [[0]*(N+1) for _ in range(N+1)]\n",
    "visited = [0]*(N+1)\n",
    "\n",
    "for i in range(M):\n",
    "    u, v = map(int, input().split())\n",
    "    graph[u][v] = 1\n",
    "    graph[v][u] = 1\n",
    "\n",
    "def dfs(v):\n",
    "    for i in range(1, N+1):\n",
    "        if graph[v][i] == 1 and not visited[i]:\n",
    "            visited[i] = 1\n",
    "            dfs(i)\n",
    "    \n",
    "count = 0\n",
    "for i in range(1, N+1):\n",
    "    if not visited[i]:\n",
    "        visited[i] = 1\n",
    "        dfs(i)\n",
    "        count += 1\n",
    "print(count)"
   ]
  },
  {
   "attachments": {},
   "cell_type": "markdown",
   "metadata": {},
   "source": [
    "간단한 bfs 문제였다.. bfs를 까먹었을 것 같았는데 생각보다 기억이 잘났다"
   ]
  }
 ],
 "metadata": {
  "kernelspec": {
   "display_name": "Python 3",
   "language": "python",
   "name": "python3"
  },
  "language_info": {
   "codemirror_mode": {
    "name": "ipython",
    "version": 3
   },
   "file_extension": ".py",
   "mimetype": "text/x-python",
   "name": "python",
   "nbconvert_exporter": "python",
   "pygments_lexer": "ipython3",
   "version": "3.10.4"
  },
  "orig_nbformat": 4
 },
 "nbformat": 4,
 "nbformat_minor": 2
}
